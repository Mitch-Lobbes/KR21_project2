{
 "cells": [
  {
   "cell_type": "code",
   "execution_count": 4,
   "id": "cfc3fddf-d4f7-402f-9bd2-0eff9e7d82ad",
   "metadata": {},
   "outputs": [],
   "source": [
    "from BNReasoner import BNReasoner\n",
    "from BayesNet import BayesNet\n",
    "from MAP import MAP"
   ]
  },
  {
   "cell_type": "code",
   "execution_count": 5,
   "id": "81bae134-b178-4ec4-88dd-6a7643a34ef5",
   "metadata": {},
   "outputs": [],
   "source": [
    "NETWORK = \"testing/lecture_example2.BIFXML\"\n",
    "reasoner = BNReasoner(NETWORK)\n",
    "map = MAP()"
   ]
  },
  {
   "cell_type": "code",
   "execution_count": 6,
   "id": "f88d5af4-d900-4098-bddf-d0f9150f0e46",
   "metadata": {},
   "outputs": [
    {
     "data": {
      "text/plain": [
       "['I', 'J', 'Y', 'X', 'O']"
      ]
     },
     "execution_count": 6,
     "metadata": {},
     "output_type": "execute_result"
    }
   ],
   "source": [
    "reasoner.bn.get_all_variables()"
   ]
  },
  {
   "cell_type": "code",
   "execution_count": 7,
   "id": "37bf20f1-364e-49e7-afd4-845d2b85cd8d",
   "metadata": {},
   "outputs": [
    {
     "data": {
      "image/png": "[encoded data removed]",
      "text/plain": [
       "<Figure size 432x288 with 1 Axes>"
      ]
     },
     "metadata": {},
     "output_type": "display_data"
    }
   ],
   "source": [
    "reasoner.bn.draw_structure()"
   ]
  },
  {
   "cell_type": "code",
   "execution_count": 8,
   "id": "633cb2a3-6e10-4f32-ab3f-afff4a85e3af",
   "metadata": {},
   "outputs": [],
   "source": [
    "cpt = reasoner.bn.get_all_cpts()"
   ]
  },
  {
   "cell_type": "code",
   "execution_count": 9,
   "id": "c5847140-9893-4322-b853-328b35fb2fbb",
   "metadata": {},
   "outputs": [
    {
     "data": {
      "text/plain": [
       "dict"
      ]
     },
     "execution_count": 9,
     "metadata": {},
     "output_type": "execute_result"
    }
   ],
   "source": [
    "type(cpt)"
   ]
  },
  {
   "cell_type": "code",
   "execution_count": 10,
   "id": "b32937eb-b7dc-4e57-89d5-604e74467649",
   "metadata": {},
   "outputs": [],
   "source": [
    "res = [val for key, val in cpt.items() if 'X' in val]"
   ]
  },
  {
   "cell_type": "code",
   "execution_count": 11,
   "id": "f302ebef-20dd-4971-ae0e-6ba595b23fc8",
   "metadata": {},
   "outputs": [
    {
     "data": {
      "text/plain": [
       "'p'"
      ]
     },
     "execution_count": 11,
     "metadata": {},
     "output_type": "execute_result"
    }
   ],
   "source": [
    "res[0].keys()[-1]"
   ]
  },
  {
   "cell_type": "code",
   "execution_count": 12,
   "id": "805e3d20-18c6-4188-8829-531edbc96f33",
   "metadata": {},
   "outputs": [
    {
     "name": "stdout",
     "output_type": "stream",
     "text": [
      "False\n",
      "False\n",
      "False\n",
      "False\n",
      "True\n",
      "True\n",
      "True\n",
      "True\n"
     ]
    }
   ],
   "source": [
    "for index, row in cpt['X'].iterrows():\n",
    "    print(row['J'])\n",
    "    row['p'] *= 2"
   ]
  },
  {
   "cell_type": "code",
   "execution_count": 13,
   "id": "b6b8fe8a-3996-468d-a89d-80a2eb0cdf61",
   "metadata": {},
   "outputs": [
    {
     "data": {
      "text/html": [
       "<div>\n",
       "<style scoped>\n",
       "    .dataframe tbody tr th:only-of-type {\n",
       "        vertical-align: middle;\n",
       "    }\n",
       "\n",
       "    .dataframe tbody tr th {\n",
       "        vertical-align: top;\n",
       "    }\n",
       "\n",
       "    .dataframe thead th {\n",
       "        text-align: right;\n",
       "    }\n",
       "</style>\n",
       "<table border=\"1\" class=\"dataframe\">\n",
       "  <thead>\n",
       "    <tr style=\"text-align: right;\">\n",
       "      <th></th>\n",
       "      <th>J</th>\n",
       "      <th>I</th>\n",
       "      <th>X</th>\n",
       "      <th>p</th>\n",
       "    </tr>\n",
       "  </thead>\n",
       "  <tbody>\n",
       "    <tr>\n",
       "      <th>0</th>\n",
       "      <td>False</td>\n",
       "      <td>False</td>\n",
       "      <td>False</td>\n",
       "      <td>0.95</td>\n",
       "    </tr>\n",
       "    <tr>\n",
       "      <th>1</th>\n",
       "      <td>False</td>\n",
       "      <td>False</td>\n",
       "      <td>True</td>\n",
       "      <td>0.05</td>\n",
       "    </tr>\n",
       "    <tr>\n",
       "      <th>2</th>\n",
       "      <td>False</td>\n",
       "      <td>True</td>\n",
       "      <td>False</td>\n",
       "      <td>0.95</td>\n",
       "    </tr>\n",
       "    <tr>\n",
       "      <th>3</th>\n",
       "      <td>False</td>\n",
       "      <td>True</td>\n",
       "      <td>True</td>\n",
       "      <td>0.05</td>\n",
       "    </tr>\n",
       "    <tr>\n",
       "      <th>4</th>\n",
       "      <td>True</td>\n",
       "      <td>False</td>\n",
       "      <td>False</td>\n",
       "      <td>0.95</td>\n",
       "    </tr>\n",
       "    <tr>\n",
       "      <th>5</th>\n",
       "      <td>True</td>\n",
       "      <td>False</td>\n",
       "      <td>True</td>\n",
       "      <td>0.05</td>\n",
       "    </tr>\n",
       "    <tr>\n",
       "      <th>6</th>\n",
       "      <td>True</td>\n",
       "      <td>True</td>\n",
       "      <td>False</td>\n",
       "      <td>0.05</td>\n",
       "    </tr>\n",
       "    <tr>\n",
       "      <th>7</th>\n",
       "      <td>True</td>\n",
       "      <td>True</td>\n",
       "      <td>True</td>\n",
       "      <td>0.95</td>\n",
       "    </tr>\n",
       "  </tbody>\n",
       "</table>\n",
       "</div>"
      ],
      "text/plain": [
       "       J      I      X     p\n",
       "0  False  False  False  0.95\n",
       "1  False  False   True  0.05\n",
       "2  False   True  False  0.95\n",
       "3  False   True   True  0.05\n",
       "4   True  False  False  0.95\n",
       "5   True  False   True  0.05\n",
       "6   True   True  False  0.05\n",
       "7   True   True   True  0.95"
      ]
     },
     "execution_count": 13,
     "metadata": {},
     "output_type": "execute_result"
    }
   ],
   "source": [
    "x = cpt['X']\n",
    "x"
   ]
  },
  {
   "cell_type": "code",
   "execution_count": null,
   "id": "904b0fc3-6a6d-40c6-883c-01dfe9fbc23a",
   "metadata": {},
   "outputs": [],
   "source": [
    "\n"
   ]
  },
  {
   "cell_type": "code",
   "execution_count": null,
   "id": "ac8a6dbd-920b-4823-9635-b72b1e8da6ba",
   "metadata": {},
   "outputs": [],
   "source": []
  },
  {
   "cell_type": "code",
   "execution_count": 14,
   "id": "3e05c3f6-e354-4955-9f05-dd8e4f7b8f00",
   "metadata": {},
   "outputs": [],
   "source": [
    "index = x.loc[x['J'] == True].loc[x['I'] == False].loc[x['X'] == False].index[0]"
   ]
  },
  {
   "cell_type": "code",
   "execution_count": 18,
   "id": "7062540f",
   "metadata": {},
   "outputs": [
    {
     "data": {
      "text/plain": [
       "'I'"
      ]
     },
     "execution_count": 18,
     "metadata": {},
     "output_type": "execute_result"
    }
   ],
   "source": [
    "x.columns[0]"
   ]
  },
  {
   "cell_type": "code",
   "execution_count": 14,
   "id": "36584702-fdd6-4363-ac2b-7c7bfb0db810",
   "metadata": {},
   "outputs": [
    {
     "data": {
      "text/plain": [
       "0    0.5\n",
       "Name: p, dtype: float64"
      ]
     },
     "execution_count": 14,
     "metadata": {},
     "output_type": "execute_result"
    }
   ],
   "source": [
    "cpt['J'].loc[cpt['J']['J'] == False]['p']"
   ]
  },
  {
   "cell_type": "code",
   "execution_count": 56,
   "id": "fbab66c8-a837-4632-930e-3dff392561a2",
   "metadata": {},
   "outputs": [
    {
     "data": {
      "text/html": [
       "<div>\n",
       "<style scoped>\n",
       "    .dataframe tbody tr th:only-of-type {\n",
       "        vertical-align: middle;\n",
       "    }\n",
       "\n",
       "    .dataframe tbody tr th {\n",
       "        vertical-align: top;\n",
       "    }\n",
       "\n",
       "    .dataframe thead th {\n",
       "        text-align: right;\n",
       "    }\n",
       "</style>\n",
       "<table border=\"1\" class=\"dataframe\">\n",
       "  <thead>\n",
       "    <tr style=\"text-align: right;\">\n",
       "      <th></th>\n",
       "      <th>J</th>\n",
       "      <th>p</th>\n",
       "    </tr>\n",
       "  </thead>\n",
       "  <tbody>\n",
       "    <tr>\n",
       "      <th>0</th>\n",
       "      <td>False</td>\n",
       "      <td>0.5</td>\n",
       "    </tr>\n",
       "    <tr>\n",
       "      <th>1</th>\n",
       "      <td>True</td>\n",
       "      <td>0.5</td>\n",
       "    </tr>\n",
       "  </tbody>\n",
       "</table>\n",
       "</div>"
      ],
      "text/plain": [
       "       J    p\n",
       "0  False  0.5\n",
       "1   True  0.5"
      ]
     },
     "execution_count": 56,
     "metadata": {},
     "output_type": "execute_result"
    }
   ],
   "source": [
    "cpt['J']"
   ]
  },
  {
   "cell_type": "code",
   "execution_count": null,
   "id": "ce7407c5-0f3e-4245-bf16-ca06cf879ce9",
   "metadata": {},
   "outputs": [],
   "source": []
  }
 ],
 "metadata": {
  "kernelspec": {
   "display_name": "Python 3 (ipykernel)",
   "language": "python",
   "name": "python3"
  },
  "language_info": {
   "codemirror_mode": {
    "name": "ipython",
    "version": 3
   },
   "file_extension": ".py",
   "mimetype": "text/x-python",
   "name": "python",
   "nbconvert_exporter": "python",
   "pygments_lexer": "ipython3",
   "version": "3.9.7"
  }
 },
 "nbformat": 4,
 "nbformat_minor": 5
}
