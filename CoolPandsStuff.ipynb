{
 "cells": [
  {
   "cell_type": "code",
   "metadata": {
    "cell_id": "00000-2631a4d1-171d-4c34-839d-a0ff7245fc11",
    "deepnote_to_be_reexecuted": false,
    "source_hash": "e0c5bb7a",
    "execution_start": 1639002781686,
    "execution_millis": 10,
    "deepnote_output_heights": [
     401
    ],
    "deepnote_cell_type": "code"
   },
   "source": "import pandas as pd\n\nfrom BNReasoner import BNReasoner\nfrom BayesNet import BayesNet",
   "outputs": [],
   "execution_count": 13
  },
  {
   "cell_type": "code",
   "metadata": {
    "cell_id": "00001-56cd8468-c831-4b5f-bb6a-9d587ffc0de4",
    "deepnote_to_be_reexecuted": false,
    "source_hash": "4e11edb6",
    "execution_start": 1638999849163,
    "execution_millis": 693,
    "deepnote_cell_type": "code"
   },
   "source": "NETWORK = \"testing/lecture_example2.BIFXML\"\nreasoner = BNReasoner(NETWORK)\ncpts = reasoner.bn.get_all_cpts()",
   "outputs": [],
   "execution_count": 6
  },
  {
   "cell_type": "code",
   "metadata": {
    "cell_id": "00002-33603718-01dd-45cd-8008-3c61249bad75",
    "deepnote_output_heights": [
     553
    ],
    "deepnote_to_be_reexecuted": false,
    "source_hash": "272f7b0b",
    "execution_start": 1638999885336,
    "execution_millis": 110,
    "deepnote_cell_type": "code"
   },
   "source": "cpts['X']",
   "outputs": [
    {
     "output_type": "execute_result",
     "execution_count": 9,
     "data": {
      "application/vnd.deepnote.dataframe.v2+json": {
       "row_count": 8,
       "column_count": 4,
       "columns": [
        {
         "name": "J",
         "dtype": "bool",
         "stats": {
          "unique_count": 2,
          "nan_count": 0,
          "categories": [
           {
            "name": "False",
            "count": 4
           },
           {
            "name": "True",
            "count": 4
           }
          ]
         }
        },
        {
         "name": "I",
         "dtype": "bool",
         "stats": {
          "unique_count": 2,
          "nan_count": 0,
          "categories": [
           {
            "name": "False",
            "count": 4
           },
           {
            "name": "True",
            "count": 4
           }
          ]
         }
        },
        {
         "name": "X",
         "dtype": "bool",
         "stats": {
          "unique_count": 2,
          "nan_count": 0,
          "categories": [
           {
            "name": "False",
            "count": 4
           },
           {
            "name": "True",
            "count": 4
           }
          ]
         }
        },
        {
         "name": "p",
         "dtype": "float64",
         "stats": {
          "unique_count": 2,
          "nan_count": 0,
          "min": "0.05",
          "max": "0.95",
          "histogram": [
           {
            "bin_start": 0.05,
            "bin_end": 0.14,
            "count": 4
           },
           {
            "bin_start": 0.14,
            "bin_end": 0.22999999999999998,
            "count": 0
           },
           {
            "bin_start": 0.22999999999999998,
            "bin_end": 0.32,
            "count": 0
           },
           {
            "bin_start": 0.32,
            "bin_end": 0.41,
            "count": 0
           },
           {
            "bin_start": 0.41,
            "bin_end": 0.49999999999999994,
            "count": 0
           },
           {
            "bin_start": 0.49999999999999994,
            "bin_end": 0.5900000000000001,
            "count": 0
           },
           {
            "bin_start": 0.5900000000000001,
            "bin_end": 0.68,
            "count": 0
           },
           {
            "bin_start": 0.68,
            "bin_end": 0.77,
            "count": 0
           },
           {
            "bin_start": 0.77,
            "bin_end": 0.86,
            "count": 0
           },
           {
            "bin_start": 0.86,
            "bin_end": 0.95,
            "count": 4
           }
          ]
         }
        },
        {
         "name": "_deepnote_index_column",
         "dtype": "int64"
        }
       ],
       "rows_top": [
        {
         "J": false,
         "I": false,
         "X": false,
         "p": 0.95,
         "_deepnote_index_column": 0
        },
        {
         "J": false,
         "I": false,
         "X": true,
         "p": 0.05,
         "_deepnote_index_column": 1
        },
        {
         "J": false,
         "I": true,
         "X": false,
         "p": 0.95,
         "_deepnote_index_column": 2
        },
        {
         "J": false,
         "I": true,
         "X": true,
         "p": 0.05,
         "_deepnote_index_column": 3
        },
        {
         "J": true,
         "I": false,
         "X": false,
         "p": 0.95,
         "_deepnote_index_column": 4
        },
        {
         "J": true,
         "I": false,
         "X": true,
         "p": 0.05,
         "_deepnote_index_column": 5
        },
        {
         "J": true,
         "I": true,
         "X": false,
         "p": 0.05,
         "_deepnote_index_column": 6
        },
        {
         "J": true,
         "I": true,
         "X": true,
         "p": 0.95,
         "_deepnote_index_column": 7
        }
       ],
       "rows_bottom": null
      },
      "text/plain": "       J      I      X     p\n0  False  False  False  0.95\n1  False  False   True  0.05\n2  False   True  False  0.95\n3  False   True   True  0.05\n4   True  False  False  0.95\n5   True  False   True  0.05\n6   True   True  False  0.05\n7   True   True   True  0.95",
      "text/html": "<div>\n<style scoped>\n    .dataframe tbody tr th:only-of-type {\n        vertical-align: middle;\n    }\n\n    .dataframe tbody tr th {\n        vertical-align: top;\n    }\n\n    .dataframe thead th {\n        text-align: right;\n    }\n</style>\n<table border=\"1\" class=\"dataframe\">\n  <thead>\n    <tr style=\"text-align: right;\">\n      <th></th>\n      <th>J</th>\n      <th>I</th>\n      <th>X</th>\n      <th>p</th>\n    </tr>\n  </thead>\n  <tbody>\n    <tr>\n      <th>0</th>\n      <td>False</td>\n      <td>False</td>\n      <td>False</td>\n      <td>0.95</td>\n    </tr>\n    <tr>\n      <th>1</th>\n      <td>False</td>\n      <td>False</td>\n      <td>True</td>\n      <td>0.05</td>\n    </tr>\n    <tr>\n      <th>2</th>\n      <td>False</td>\n      <td>True</td>\n      <td>False</td>\n      <td>0.95</td>\n    </tr>\n    <tr>\n      <th>3</th>\n      <td>False</td>\n      <td>True</td>\n      <td>True</td>\n      <td>0.05</td>\n    </tr>\n    <tr>\n      <th>4</th>\n      <td>True</td>\n      <td>False</td>\n      <td>False</td>\n      <td>0.95</td>\n    </tr>\n    <tr>\n      <th>5</th>\n      <td>True</td>\n      <td>False</td>\n      <td>True</td>\n      <td>0.05</td>\n    </tr>\n    <tr>\n      <th>6</th>\n      <td>True</td>\n      <td>True</td>\n      <td>False</td>\n      <td>0.05</td>\n    </tr>\n    <tr>\n      <th>7</th>\n      <td>True</td>\n      <td>True</td>\n      <td>True</td>\n      <td>0.95</td>\n    </tr>\n  </tbody>\n</table>\n</div>"
     },
     "metadata": {}
    }
   ],
   "execution_count": 9
  },
  {
   "cell_type": "code",
   "metadata": {
    "tags": [],
    "cell_id": "00003-b9a7fe0b-c478-40e6-960b-96e461004ed5",
    "deepnote_to_be_reexecuted": false,
    "source_hash": "f635a300",
    "execution_start": 1639006364855,
    "execution_millis": 0,
    "deepnote_cell_type": "code"
   },
   "source": "f3 = {\n    'A': [True] * 4 + [False] * 4, \n    'B': [True, True, False, False, True, True, False, False],\n    'C': [True, False] * 4,\n    'p': [0.03, 0.07, 0.54, 0.36, 0.06, 0.14, 0.48, 0.32]\n}\nf3 = pd.DataFrame.from_dict(f3)",
   "outputs": [],
   "execution_count": 60
  },
  {
   "cell_type": "markdown",
   "source": "### Summing out\n\n$$\nf_{3}=\\begin{array}{|lll|r|}\nA & B & C & \\text { val } \\\\\n- & - & - & -- \\\\\nt & t & t & 0.03 \\\\\nt & t & f & 0.07 \\\\\nt & f & t & 0.54 \\\\\nt & f & f & 0.36 \\\\\nf & t & t & 0.06 \\\\\nf & t & f & 0.14 \\\\\nf & f & t & 0.48 \\\\\nf & f & f & 0.32 \\\\\n\\end{array}\n\\quad\\quad\\quad\\quad\n\\sum_{B} f_{3}=\\begin{array}{|ll|r|}\nA & C & \\text { val } \\\\\n- & - & --\\\\\nt & t & 0.57 \\\\\nt & f & 0.43 \\\\\nf & t & 0.54 \\\\\nf & f & 0.46\n\\end{array}\n$$\nExample of summing out variable $B$ from a factor $f_3\\left(A,B,C\\right)$, which is a factor on $A, C$.\n$$\n\\begin{aligned}\n\\left(\\sum_{B} f_{3}\\right)(A=t, C=f) &=f_{3}(A=t, B=t, C=f)+f_{3}(A=t, B=f, C=f) \\\\\n&=0.07+0.36 \\\\\n&=0.43\n\\end{aligned}\n$$",
   "metadata": {
    "tags": [],
    "cell_id": "00003-398d34d4-83d7-40c6-9993-b2a5fb4e8e24",
    "deepnote_cell_type": "markdown"
   }
  },
  {
   "cell_type": "code",
   "metadata": {
    "cell_id": "00003-6424b2cc-eece-49b3-8b38-eb95c851fb63",
    "deepnote_to_be_reexecuted": false,
    "source_hash": "f9843ca3",
    "execution_start": 1639006234071,
    "execution_millis": 1,
    "deepnote_output_heights": [
     553
    ],
    "deepnote_cell_type": "code"
   },
   "source": "def sum_out_var(cpt: pd.DataFrame, variable: str) -> pd.DataFrame:\n    \"\"\"Sum out a variable from a conditional probability table (CPT)\n\n    Args:\n        cpt (pd.DataFrame): Pandas DataFrame representation of the cpt\n        variable (str): Variable to sum out\n\n    Returns:\n        pd.DataFrame: cpt after summing out the variable\n    \"\"\"\n    mask = cpt[variable] == True\n    var_true_df = cpt[mask].drop(variable, axis=1)\n    var_false_df = cpt[~mask].drop(variable, axis=1)\n\n    columns = [col for col in var_true_df.columns if col != 'p']\n\n    resulting_df = pd.concat([var_true_df, var_false_df]).groupby(columns, as_index=False)[\"p\"].sum()\n    return resulting_df",
   "outputs": [],
   "execution_count": 57
  },
  {
   "cell_type": "code",
   "metadata": {
    "tags": [],
    "cell_id": "00006-8cf39f5c-f486-4996-96e1-0fc3f981ccad",
    "deepnote_to_be_reexecuted": false,
    "source_hash": "f12d84f3",
    "execution_start": 1639010366275,
    "execution_millis": 4,
    "deepnote_cell_type": "code"
   },
   "source": "def multiply_factors(cpt1: pd.DataFrame, cpt2: pd.DataFrame) -> pd.DataFrame:\n    \"\"\"Multiply two given factors\n\n    Args:\n        cpt1 (pd.DataFrame): Pandas DataFrame representation of first cpt\n        cpt1 (pd.DataFrame): Pandas DataFrame representation of second cpt\n\n    Returns:\n        pd.DataFrame: cpt after multiplying cpt1 and cpt2\n    \"\"\"\n    common_vars = list(set([col for col in f1.columns if col != 'p']) & set([col for col in f2.columns if col != 'p']))\n\n    merged_df = pd.merge(cpt1, cpt2, on=common_vars)\n    merged_df['p'] = (merged_df['p_x'] * merged_df['p_y'])\n    merged_df.drop(['p_x', 'p_y'], inplace=True, axis=1)\n\n    return merged_df\n",
   "outputs": [],
   "execution_count": 118
  },
  {
   "cell_type": "code",
   "metadata": {
    "tags": [],
    "cell_id": "00006-fceeac96-8ae8-4de4-9109-20745efaff46",
    "deepnote_to_be_reexecuted": false,
    "source_hash": "306dc4df",
    "execution_start": 1639009046647,
    "execution_millis": 1,
    "deepnote_cell_type": "code"
   },
   "source": "f1 = {\n    'B': [True] * 4 + [False] * 4, \n    'C': [True, True, False, False] * 2,\n    'D': [True, False] * 4,\n    'p': [0.95, 0.05, 0.9, 0.1, 0.8, 0.2, 0, 1]\n}\nf1 = pd.DataFrame.from_dict(f1)\nf2 = {\n    'D': [True, True, False, False],\n    'E': [True, False, True, False],\n    'p': [0.448, 0.192, 0.112, 0.248]\n}\nf2 = pd.DataFrame.from_dict(f2)",
   "outputs": [],
   "execution_count": 66
  },
  {
   "cell_type": "code",
   "metadata": {
    "tags": [],
    "cell_id": "00008-b2823d49-14fb-4287-ae89-735ebaac9c47",
    "deepnote_to_be_reexecuted": false,
    "source_hash": "4540bf7e",
    "execution_start": 1639010377421,
    "execution_millis": 19,
    "deepnote_cell_type": "code"
   },
   "source": "merged_df = pd.merge(f1, f2, on='D')\nmerged_df",
   "outputs": [
    {
     "output_type": "execute_result",
     "execution_count": 121,
     "data": {
      "application/vnd.deepnote.dataframe.v2+json": {
       "row_count": 16,
       "column_count": 6,
       "columns": [
        {
         "name": "B",
         "dtype": "bool",
         "stats": {
          "unique_count": 2,
          "nan_count": 0,
          "categories": [
           {
            "name": "True",
            "count": 8
           },
           {
            "name": "False",
            "count": 8
           }
          ]
         }
        },
        {
         "name": "C",
         "dtype": "bool",
         "stats": {
          "unique_count": 2,
          "nan_count": 0,
          "categories": [
           {
            "name": "True",
            "count": 8
           },
           {
            "name": "False",
            "count": 8
           }
          ]
         }
        },
        {
         "name": "D",
         "dtype": "bool",
         "stats": {
          "unique_count": 2,
          "nan_count": 0,
          "categories": [
           {
            "name": "True",
            "count": 8
           },
           {
            "name": "False",
            "count": 8
           }
          ]
         }
        },
        {
         "name": "p_x",
         "dtype": "float64",
         "stats": {
          "unique_count": 8,
          "nan_count": 0,
          "min": "0.0",
          "max": "1.0",
          "histogram": [
           {
            "bin_start": 0,
            "bin_end": 0.1,
            "count": 4
           },
           {
            "bin_start": 0.1,
            "bin_end": 0.2,
            "count": 2
           },
           {
            "bin_start": 0.2,
            "bin_end": 0.30000000000000004,
            "count": 2
           },
           {
            "bin_start": 0.30000000000000004,
            "bin_end": 0.4,
            "count": 0
           },
           {
            "bin_start": 0.4,
            "bin_end": 0.5,
            "count": 0
           },
           {
            "bin_start": 0.5,
            "bin_end": 0.6000000000000001,
            "count": 0
           },
           {
            "bin_start": 0.6000000000000001,
            "bin_end": 0.7000000000000001,
            "count": 0
           },
           {
            "bin_start": 0.7000000000000001,
            "bin_end": 0.8,
            "count": 0
           },
           {
            "bin_start": 0.8,
            "bin_end": 0.9,
            "count": 2
           },
           {
            "bin_start": 0.9,
            "bin_end": 1,
            "count": 6
           }
          ]
         }
        },
        {
         "name": "E",
         "dtype": "bool",
         "stats": {
          "unique_count": 2,
          "nan_count": 0,
          "categories": [
           {
            "name": "True",
            "count": 8
           },
           {
            "name": "False",
            "count": 8
           }
          ]
         }
        },
        {
         "name": "p_y",
         "dtype": "float64",
         "stats": {
          "unique_count": 4,
          "nan_count": 0,
          "min": "0.112",
          "max": "0.448",
          "histogram": [
           {
            "bin_start": 0.112,
            "bin_end": 0.1456,
            "count": 4
           },
           {
            "bin_start": 0.1456,
            "bin_end": 0.17920000000000003,
            "count": 0
           },
           {
            "bin_start": 0.17920000000000003,
            "bin_end": 0.21280000000000002,
            "count": 4
           },
           {
            "bin_start": 0.21280000000000002,
            "bin_end": 0.2464,
            "count": 0
           },
           {
            "bin_start": 0.2464,
            "bin_end": 0.28,
            "count": 4
           },
           {
            "bin_start": 0.28,
            "bin_end": 0.31360000000000005,
            "count": 0
           },
           {
            "bin_start": 0.31360000000000005,
            "bin_end": 0.3472,
            "count": 0
           },
           {
            "bin_start": 0.3472,
            "bin_end": 0.3808,
            "count": 0
           },
           {
            "bin_start": 0.3808,
            "bin_end": 0.41440000000000005,
            "count": 0
           },
           {
            "bin_start": 0.41440000000000005,
            "bin_end": 0.448,
            "count": 4
           }
          ]
         }
        },
        {
         "name": "_deepnote_index_column",
         "dtype": "int64"
        }
       ],
       "rows_top": [
        {
         "B": true,
         "C": true,
         "D": true,
         "p_x": 0.95,
         "E": true,
         "p_y": 0.448,
         "_deepnote_index_column": 0
        },
        {
         "B": true,
         "C": true,
         "D": true,
         "p_x": 0.95,
         "E": false,
         "p_y": 0.192,
         "_deepnote_index_column": 1
        },
        {
         "B": true,
         "C": false,
         "D": true,
         "p_x": 0.9,
         "E": true,
         "p_y": 0.448,
         "_deepnote_index_column": 2
        },
        {
         "B": true,
         "C": false,
         "D": true,
         "p_x": 0.9,
         "E": false,
         "p_y": 0.192,
         "_deepnote_index_column": 3
        },
        {
         "B": false,
         "C": true,
         "D": true,
         "p_x": 0.8,
         "E": true,
         "p_y": 0.448,
         "_deepnote_index_column": 4
        },
        {
         "B": false,
         "C": true,
         "D": true,
         "p_x": 0.8,
         "E": false,
         "p_y": 0.192,
         "_deepnote_index_column": 5
        },
        {
         "B": false,
         "C": false,
         "D": true,
         "p_x": 0,
         "E": true,
         "p_y": 0.448,
         "_deepnote_index_column": 6
        },
        {
         "B": false,
         "C": false,
         "D": true,
         "p_x": 0,
         "E": false,
         "p_y": 0.192,
         "_deepnote_index_column": 7
        },
        {
         "B": true,
         "C": true,
         "D": false,
         "p_x": 0.05,
         "E": true,
         "p_y": 0.112,
         "_deepnote_index_column": 8
        },
        {
         "B": true,
         "C": true,
         "D": false,
         "p_x": 0.05,
         "E": false,
         "p_y": 0.248,
         "_deepnote_index_column": 9
        },
        {
         "B": true,
         "C": false,
         "D": false,
         "p_x": 0.1,
         "E": true,
         "p_y": 0.112,
         "_deepnote_index_column": 10
        },
        {
         "B": true,
         "C": false,
         "D": false,
         "p_x": 0.1,
         "E": false,
         "p_y": 0.248,
         "_deepnote_index_column": 11
        },
        {
         "B": false,
         "C": true,
         "D": false,
         "p_x": 0.2,
         "E": true,
         "p_y": 0.112,
         "_deepnote_index_column": 12
        },
        {
         "B": false,
         "C": true,
         "D": false,
         "p_x": 0.2,
         "E": false,
         "p_y": 0.248,
         "_deepnote_index_column": 13
        },
        {
         "B": false,
         "C": false,
         "D": false,
         "p_x": 1,
         "E": true,
         "p_y": 0.112,
         "_deepnote_index_column": 14
        },
        {
         "B": false,
         "C": false,
         "D": false,
         "p_x": 1,
         "E": false,
         "p_y": 0.248,
         "_deepnote_index_column": 15
        }
       ],
       "rows_bottom": null
      },
      "text/plain": "        B      C      D   p_x      E    p_y\n0    True   True   True  0.95   True  0.448\n1    True   True   True  0.95  False  0.192\n2    True  False   True  0.90   True  0.448\n3    True  False   True  0.90  False  0.192\n4   False   True   True  0.80   True  0.448\n5   False   True   True  0.80  False  0.192\n6   False  False   True  0.00   True  0.448\n7   False  False   True  0.00  False  0.192\n8    True   True  False  0.05   True  0.112\n9    True   True  False  0.05  False  0.248\n10   True  False  False  0.10   True  0.112\n11   True  False  False  0.10  False  0.248\n12  False   True  False  0.20   True  0.112\n13  False   True  False  0.20  False  0.248\n14  False  False  False  1.00   True  0.112\n15  False  False  False  1.00  False  0.248",
      "text/html": "<div>\n<style scoped>\n    .dataframe tbody tr th:only-of-type {\n        vertical-align: middle;\n    }\n\n    .dataframe tbody tr th {\n        vertical-align: top;\n    }\n\n    .dataframe thead th {\n        text-align: right;\n    }\n</style>\n<table border=\"1\" class=\"dataframe\">\n  <thead>\n    <tr style=\"text-align: right;\">\n      <th></th>\n      <th>B</th>\n      <th>C</th>\n      <th>D</th>\n      <th>p_x</th>\n      <th>E</th>\n      <th>p_y</th>\n    </tr>\n  </thead>\n  <tbody>\n    <tr>\n      <th>0</th>\n      <td>True</td>\n      <td>True</td>\n      <td>True</td>\n      <td>0.95</td>\n      <td>True</td>\n      <td>0.448</td>\n    </tr>\n    <tr>\n      <th>1</th>\n      <td>True</td>\n      <td>True</td>\n      <td>True</td>\n      <td>0.95</td>\n      <td>False</td>\n      <td>0.192</td>\n    </tr>\n    <tr>\n      <th>2</th>\n      <td>True</td>\n      <td>False</td>\n      <td>True</td>\n      <td>0.90</td>\n      <td>True</td>\n      <td>0.448</td>\n    </tr>\n    <tr>\n      <th>3</th>\n      <td>True</td>\n      <td>False</td>\n      <td>True</td>\n      <td>0.90</td>\n      <td>False</td>\n      <td>0.192</td>\n    </tr>\n    <tr>\n      <th>4</th>\n      <td>False</td>\n      <td>True</td>\n      <td>True</td>\n      <td>0.80</td>\n      <td>True</td>\n      <td>0.448</td>\n    </tr>\n    <tr>\n      <th>5</th>\n      <td>False</td>\n      <td>True</td>\n      <td>True</td>\n      <td>0.80</td>\n      <td>False</td>\n      <td>0.192</td>\n    </tr>\n    <tr>\n      <th>6</th>\n      <td>False</td>\n      <td>False</td>\n      <td>True</td>\n      <td>0.00</td>\n      <td>True</td>\n      <td>0.448</td>\n    </tr>\n    <tr>\n      <th>7</th>\n      <td>False</td>\n      <td>False</td>\n      <td>True</td>\n      <td>0.00</td>\n      <td>False</td>\n      <td>0.192</td>\n    </tr>\n    <tr>\n      <th>8</th>\n      <td>True</td>\n      <td>True</td>\n      <td>False</td>\n      <td>0.05</td>\n      <td>True</td>\n      <td>0.112</td>\n    </tr>\n    <tr>\n      <th>9</th>\n      <td>True</td>\n      <td>True</td>\n      <td>False</td>\n      <td>0.05</td>\n      <td>False</td>\n      <td>0.248</td>\n    </tr>\n    <tr>\n      <th>10</th>\n      <td>True</td>\n      <td>False</td>\n      <td>False</td>\n      <td>0.10</td>\n      <td>True</td>\n      <td>0.112</td>\n    </tr>\n    <tr>\n      <th>11</th>\n      <td>True</td>\n      <td>False</td>\n      <td>False</td>\n      <td>0.10</td>\n      <td>False</td>\n      <td>0.248</td>\n    </tr>\n    <tr>\n      <th>12</th>\n      <td>False</td>\n      <td>True</td>\n      <td>False</td>\n      <td>0.20</td>\n      <td>True</td>\n      <td>0.112</td>\n    </tr>\n    <tr>\n      <th>13</th>\n      <td>False</td>\n      <td>True</td>\n      <td>False</td>\n      <td>0.20</td>\n      <td>False</td>\n      <td>0.248</td>\n    </tr>\n    <tr>\n      <th>14</th>\n      <td>False</td>\n      <td>False</td>\n      <td>False</td>\n      <td>1.00</td>\n      <td>True</td>\n      <td>0.112</td>\n    </tr>\n    <tr>\n      <th>15</th>\n      <td>False</td>\n      <td>False</td>\n      <td>False</td>\n      <td>1.00</td>\n      <td>False</td>\n      <td>0.248</td>\n    </tr>\n  </tbody>\n</table>\n</div>"
     },
     "metadata": {}
    }
   ],
   "execution_count": 121
  },
  {
   "cell_type": "code",
   "metadata": {
    "tags": [],
    "cell_id": "00006-5c0c7128-aff1-4fdb-a92e-d55dec04ee11",
    "deepnote_to_be_reexecuted": false,
    "source_hash": "9520322d",
    "execution_start": 1639010402182,
    "execution_millis": 37,
    "deepnote_output_heights": [
     21,
     21
    ],
    "deepnote_cell_type": "code"
   },
   "source": "res = multiply_factors(\n    cpt1 = f1,\n    cpt2=f2,\n)\nres",
   "outputs": [
    {
     "output_type": "execute_result",
     "execution_count": 122,
     "data": {
      "application/vnd.deepnote.dataframe.v2+json": {
       "row_count": 16,
       "column_count": 5,
       "columns": [
        {
         "name": "B",
         "dtype": "bool",
         "stats": {
          "unique_count": 2,
          "nan_count": 0,
          "categories": [
           {
            "name": "True",
            "count": 8
           },
           {
            "name": "False",
            "count": 8
           }
          ]
         }
        },
        {
         "name": "C",
         "dtype": "bool",
         "stats": {
          "unique_count": 2,
          "nan_count": 0,
          "categories": [
           {
            "name": "True",
            "count": 8
           },
           {
            "name": "False",
            "count": 8
           }
          ]
         }
        },
        {
         "name": "D",
         "dtype": "bool",
         "stats": {
          "unique_count": 2,
          "nan_count": 0,
          "categories": [
           {
            "name": "True",
            "count": 8
           },
           {
            "name": "False",
            "count": 8
           }
          ]
         }
        },
        {
         "name": "E",
         "dtype": "bool",
         "stats": {
          "unique_count": 2,
          "nan_count": 0,
          "categories": [
           {
            "name": "True",
            "count": 8
           },
           {
            "name": "False",
            "count": 8
           }
          ]
         }
        },
        {
         "name": "p",
         "dtype": "float64",
         "stats": {
          "unique_count": 15,
          "nan_count": 0,
          "min": "0.0",
          "max": "0.4256",
          "histogram": [
           {
            "bin_start": 0,
            "bin_end": 0.04256,
            "count": 7
           },
           {
            "bin_start": 0.04256,
            "bin_end": 0.08512,
            "count": 1
           },
           {
            "bin_start": 0.08512,
            "bin_end": 0.12768000000000002,
            "count": 1
           },
           {
            "bin_start": 0.12768000000000002,
            "bin_end": 0.17024,
            "count": 1
           },
           {
            "bin_start": 0.17024,
            "bin_end": 0.2128,
            "count": 2
           },
           {
            "bin_start": 0.2128,
            "bin_end": 0.25536000000000003,
            "count": 1
           },
           {
            "bin_start": 0.25536000000000003,
            "bin_end": 0.29792,
            "count": 0
           },
           {
            "bin_start": 0.29792,
            "bin_end": 0.34048,
            "count": 0
           },
           {
            "bin_start": 0.34048,
            "bin_end": 0.38304,
            "count": 1
           },
           {
            "bin_start": 0.38304,
            "bin_end": 0.4256,
            "count": 2
           }
          ]
         }
        },
        {
         "name": "_deepnote_index_column",
         "dtype": "int64"
        }
       ],
       "rows_top": [
        {
         "B": true,
         "C": true,
         "D": true,
         "E": true,
         "p": 0.4256,
         "_deepnote_index_column": 0
        },
        {
         "B": true,
         "C": true,
         "D": true,
         "E": false,
         "p": 0.1824,
         "_deepnote_index_column": 1
        },
        {
         "B": true,
         "C": false,
         "D": true,
         "E": true,
         "p": 0.4032,
         "_deepnote_index_column": 2
        },
        {
         "B": true,
         "C": false,
         "D": true,
         "E": false,
         "p": 0.1728,
         "_deepnote_index_column": 3
        },
        {
         "B": false,
         "C": true,
         "D": true,
         "E": true,
         "p": 0.35840000000000005,
         "_deepnote_index_column": 4
        },
        {
         "B": false,
         "C": true,
         "D": true,
         "E": false,
         "p": 0.15360000000000001,
         "_deepnote_index_column": 5
        },
        {
         "B": false,
         "C": false,
         "D": true,
         "E": true,
         "p": 0,
         "_deepnote_index_column": 6
        },
        {
         "B": false,
         "C": false,
         "D": true,
         "E": false,
         "p": 0,
         "_deepnote_index_column": 7
        },
        {
         "B": true,
         "C": true,
         "D": false,
         "E": true,
         "p": 0.005600000000000001,
         "_deepnote_index_column": 8
        },
        {
         "B": true,
         "C": true,
         "D": false,
         "E": false,
         "p": 0.012400000000000001,
         "_deepnote_index_column": 9
        },
        {
         "B": true,
         "C": false,
         "D": false,
         "E": true,
         "p": 0.011200000000000002,
         "_deepnote_index_column": 10
        },
        {
         "B": true,
         "C": false,
         "D": false,
         "E": false,
         "p": 0.024800000000000003,
         "_deepnote_index_column": 11
        },
        {
         "B": false,
         "C": true,
         "D": false,
         "E": true,
         "p": 0.022400000000000003,
         "_deepnote_index_column": 12
        },
        {
         "B": false,
         "C": true,
         "D": false,
         "E": false,
         "p": 0.049600000000000005,
         "_deepnote_index_column": 13
        },
        {
         "B": false,
         "C": false,
         "D": false,
         "E": true,
         "p": 0.112,
         "_deepnote_index_column": 14
        },
        {
         "B": false,
         "C": false,
         "D": false,
         "E": false,
         "p": 0.248,
         "_deepnote_index_column": 15
        }
       ],
       "rows_bottom": null
      },
      "text/plain": "        B      C      D      E       p\n0    True   True   True   True  0.4256\n1    True   True   True  False  0.1824\n2    True  False   True   True  0.4032\n3    True  False   True  False  0.1728\n4   False   True   True   True  0.3584\n5   False   True   True  False  0.1536\n6   False  False   True   True  0.0000\n7   False  False   True  False  0.0000\n8    True   True  False   True  0.0056\n9    True   True  False  False  0.0124\n10   True  False  False   True  0.0112\n11   True  False  False  False  0.0248\n12  False   True  False   True  0.0224\n13  False   True  False  False  0.0496\n14  False  False  False   True  0.1120\n15  False  False  False  False  0.2480",
      "text/html": "<div>\n<style scoped>\n    .dataframe tbody tr th:only-of-type {\n        vertical-align: middle;\n    }\n\n    .dataframe tbody tr th {\n        vertical-align: top;\n    }\n\n    .dataframe thead th {\n        text-align: right;\n    }\n</style>\n<table border=\"1\" class=\"dataframe\">\n  <thead>\n    <tr style=\"text-align: right;\">\n      <th></th>\n      <th>B</th>\n      <th>C</th>\n      <th>D</th>\n      <th>E</th>\n      <th>p</th>\n    </tr>\n  </thead>\n  <tbody>\n    <tr>\n      <th>0</th>\n      <td>True</td>\n      <td>True</td>\n      <td>True</td>\n      <td>True</td>\n      <td>0.4256</td>\n    </tr>\n    <tr>\n      <th>1</th>\n      <td>True</td>\n      <td>True</td>\n      <td>True</td>\n      <td>False</td>\n      <td>0.1824</td>\n    </tr>\n    <tr>\n      <th>2</th>\n      <td>True</td>\n      <td>False</td>\n      <td>True</td>\n      <td>True</td>\n      <td>0.4032</td>\n    </tr>\n    <tr>\n      <th>3</th>\n      <td>True</td>\n      <td>False</td>\n      <td>True</td>\n      <td>False</td>\n      <td>0.1728</td>\n    </tr>\n    <tr>\n      <th>4</th>\n      <td>False</td>\n      <td>True</td>\n      <td>True</td>\n      <td>True</td>\n      <td>0.3584</td>\n    </tr>\n    <tr>\n      <th>5</th>\n      <td>False</td>\n      <td>True</td>\n      <td>True</td>\n      <td>False</td>\n      <td>0.1536</td>\n    </tr>\n    <tr>\n      <th>6</th>\n      <td>False</td>\n      <td>False</td>\n      <td>True</td>\n      <td>True</td>\n      <td>0.0000</td>\n    </tr>\n    <tr>\n      <th>7</th>\n      <td>False</td>\n      <td>False</td>\n      <td>True</td>\n      <td>False</td>\n      <td>0.0000</td>\n    </tr>\n    <tr>\n      <th>8</th>\n      <td>True</td>\n      <td>True</td>\n      <td>False</td>\n      <td>True</td>\n      <td>0.0056</td>\n    </tr>\n    <tr>\n      <th>9</th>\n      <td>True</td>\n      <td>True</td>\n      <td>False</td>\n      <td>False</td>\n      <td>0.0124</td>\n    </tr>\n    <tr>\n      <th>10</th>\n      <td>True</td>\n      <td>False</td>\n      <td>False</td>\n      <td>True</td>\n      <td>0.0112</td>\n    </tr>\n    <tr>\n      <th>11</th>\n      <td>True</td>\n      <td>False</td>\n      <td>False</td>\n      <td>False</td>\n      <td>0.0248</td>\n    </tr>\n    <tr>\n      <th>12</th>\n      <td>False</td>\n      <td>True</td>\n      <td>False</td>\n      <td>True</td>\n      <td>0.0224</td>\n    </tr>\n    <tr>\n      <th>13</th>\n      <td>False</td>\n      <td>True</td>\n      <td>False</td>\n      <td>False</td>\n      <td>0.0496</td>\n    </tr>\n    <tr>\n      <th>14</th>\n      <td>False</td>\n      <td>False</td>\n      <td>False</td>\n      <td>True</td>\n      <td>0.1120</td>\n    </tr>\n    <tr>\n      <th>15</th>\n      <td>False</td>\n      <td>False</td>\n      <td>False</td>\n      <td>False</td>\n      <td>0.2480</td>\n    </tr>\n  </tbody>\n</table>\n</div>"
     },
     "metadata": {}
    }
   ],
   "execution_count": 122
  },
  {
   "cell_type": "code",
   "metadata": {
    "tags": [],
    "cell_id": "00007-1d63f756-e184-4367-80f5-8fe97d03d913",
    "deepnote_to_be_reexecuted": false,
    "source_hash": "56ab3a3f",
    "execution_start": 1639010149730,
    "execution_millis": 9,
    "deepnote_output_heights": [
     21
    ],
    "deepnote_cell_type": "code"
   },
   "source": "common_vars = list(set([col for col in f1.columns if col != 'p']) & set([col for col in f2.columns if col != 'p']))\ncommon_vars",
   "outputs": [
    {
     "output_type": "execute_result",
     "execution_count": 104,
     "data": {
      "text/plain": "{'D'}"
     },
     "metadata": {}
    }
   ],
   "execution_count": 104
  },
  {
   "cell_type": "code",
   "metadata": {
    "tags": [],
    "cell_id": "00010-f7d2f0e0-88cf-43e7-8627-5e50d08bb0af",
    "deepnote_to_be_reexecuted": false,
    "source_hash": "a8268e86",
    "execution_start": 1639010001171,
    "execution_millis": 33,
    "deepnote_cell_type": "code"
   },
   "source": "merged_df = pd.merge(f1, f2, on='D')\nmerged_df['p'] = (merged_df['p_x'] * merged_df['p_y'])\nmerged_df.drop(['p_x', 'p_y'], inplace=True, axis=1)\n",
   "outputs": [
    {
     "output_type": "error",
     "ename": "ValueError",
     "evalue": "No axis named 1 for object type Series",
     "traceback": [
      "\u001b[0;31m---------------------------------------------------------------------------\u001b[0m",
      "\u001b[0;31mKeyError\u001b[0m                                  Traceback (most recent call last)",
      "\u001b[0;32m/shared-libs/python3.9/py/lib/python3.9/site-packages/pandas/core/generic.py\u001b[0m in \u001b[0;36m_get_axis_number\u001b[0;34m(cls, axis)\u001b[0m\n\u001b[1;32m    459\u001b[0m         \u001b[0;32mtry\u001b[0m\u001b[0;34m:\u001b[0m\u001b[0;34m\u001b[0m\u001b[0;34m\u001b[0m\u001b[0m\n\u001b[0;32m--> 460\u001b[0;31m             \u001b[0;32mreturn\u001b[0m \u001b[0mcls\u001b[0m\u001b[0;34m.\u001b[0m\u001b[0m_AXIS_TO_AXIS_NUMBER\u001b[0m\u001b[0;34m[\u001b[0m\u001b[0maxis\u001b[0m\u001b[0;34m]\u001b[0m\u001b[0;34m\u001b[0m\u001b[0;34m\u001b[0m\u001b[0m\n\u001b[0m\u001b[1;32m    461\u001b[0m         \u001b[0;32mexcept\u001b[0m \u001b[0mKeyError\u001b[0m\u001b[0;34m:\u001b[0m\u001b[0;34m\u001b[0m\u001b[0;34m\u001b[0m\u001b[0m\n",
      "\u001b[0;31mKeyError\u001b[0m: 1",
      "\nDuring handling of the above exception, another exception occurred:\n",
      "\u001b[0;31mValueError\u001b[0m                                Traceback (most recent call last)",
      "\u001b[0;32m<ipython-input-103-40380d04aff5>\u001b[0m in \u001b[0;36m<module>\u001b[0;34m\u001b[0m\n\u001b[1;32m      1\u001b[0m \u001b[0mmerged_df\u001b[0m \u001b[0;34m=\u001b[0m \u001b[0mpd\u001b[0m\u001b[0;34m.\u001b[0m\u001b[0mmerge\u001b[0m\u001b[0;34m(\u001b[0m\u001b[0mf1\u001b[0m\u001b[0;34m,\u001b[0m \u001b[0mf2\u001b[0m\u001b[0;34m,\u001b[0m \u001b[0mon\u001b[0m\u001b[0;34m=\u001b[0m\u001b[0;34m'D'\u001b[0m\u001b[0;34m)\u001b[0m\u001b[0;34m\u001b[0m\u001b[0;34m\u001b[0m\u001b[0m\n\u001b[0;32m----> 2\u001b[0;31m \u001b[0mmerged_df\u001b[0m\u001b[0;34m[\u001b[0m\u001b[0;34m'p'\u001b[0m\u001b[0;34m]\u001b[0m \u001b[0;34m=\u001b[0m \u001b[0;34m(\u001b[0m\u001b[0mmerged_df\u001b[0m\u001b[0;34m[\u001b[0m\u001b[0;34m'p_x'\u001b[0m\u001b[0;34m]\u001b[0m \u001b[0;34m*\u001b[0m \u001b[0mmerged_df\u001b[0m\u001b[0;34m[\u001b[0m\u001b[0;34m'p_y'\u001b[0m\u001b[0;34m]\u001b[0m\u001b[0;34m)\u001b[0m\u001b[0;34m.\u001b[0m\u001b[0mdrop\u001b[0m\u001b[0;34m(\u001b[0m\u001b[0;34m[\u001b[0m\u001b[0;34m'p_x'\u001b[0m\u001b[0;34m,\u001b[0m \u001b[0;34m'p_y'\u001b[0m\u001b[0;34m]\u001b[0m\u001b[0;34m,\u001b[0m \u001b[0maxis\u001b[0m\u001b[0;34m=\u001b[0m\u001b[0;36m1\u001b[0m\u001b[0;34m)\u001b[0m\u001b[0;34m\u001b[0m\u001b[0;34m\u001b[0m\u001b[0m\n\u001b[0m\u001b[1;32m      3\u001b[0m \u001b[0mmerged_df\u001b[0m\u001b[0;34m\u001b[0m\u001b[0;34m\u001b[0m\u001b[0m\n",
      "\u001b[0;32m/shared-libs/python3.9/py/lib/python3.9/site-packages/pandas/core/series.py\u001b[0m in \u001b[0;36mdrop\u001b[0;34m(self, labels, axis, index, columns, level, inplace, errors)\u001b[0m\n\u001b[1;32m   4441\u001b[0m         \u001b[0mdtype\u001b[0m\u001b[0;34m:\u001b[0m \u001b[0mfloat64\u001b[0m\u001b[0;34m\u001b[0m\u001b[0;34m\u001b[0m\u001b[0m\n\u001b[1;32m   4442\u001b[0m         \"\"\"\n\u001b[0;32m-> 4443\u001b[0;31m         return super().drop(\n\u001b[0m\u001b[1;32m   4444\u001b[0m             \u001b[0mlabels\u001b[0m\u001b[0;34m=\u001b[0m\u001b[0mlabels\u001b[0m\u001b[0;34m,\u001b[0m\u001b[0;34m\u001b[0m\u001b[0;34m\u001b[0m\u001b[0m\n\u001b[1;32m   4445\u001b[0m             \u001b[0maxis\u001b[0m\u001b[0;34m=\u001b[0m\u001b[0maxis\u001b[0m\u001b[0;34m,\u001b[0m\u001b[0;34m\u001b[0m\u001b[0;34m\u001b[0m\u001b[0m\n",
      "\u001b[0;32m/shared-libs/python3.9/py/lib/python3.9/site-packages/pandas/core/generic.py\u001b[0m in \u001b[0;36mdrop\u001b[0;34m(self, labels, axis, index, columns, level, inplace, errors)\u001b[0m\n\u001b[1;32m   4138\u001b[0m             \u001b[0;32mif\u001b[0m \u001b[0mindex\u001b[0m \u001b[0;32mis\u001b[0m \u001b[0;32mnot\u001b[0m \u001b[0;32mNone\u001b[0m \u001b[0;32mor\u001b[0m \u001b[0mcolumns\u001b[0m \u001b[0;32mis\u001b[0m \u001b[0;32mnot\u001b[0m \u001b[0;32mNone\u001b[0m\u001b[0;34m:\u001b[0m\u001b[0;34m\u001b[0m\u001b[0;34m\u001b[0m\u001b[0m\n\u001b[1;32m   4139\u001b[0m                 \u001b[0;32mraise\u001b[0m \u001b[0mValueError\u001b[0m\u001b[0;34m(\u001b[0m\u001b[0;34m\"Cannot specify both 'labels' and 'index'/'columns'\"\u001b[0m\u001b[0;34m)\u001b[0m\u001b[0;34m\u001b[0m\u001b[0;34m\u001b[0m\u001b[0m\n\u001b[0;32m-> 4140\u001b[0;31m             \u001b[0maxis_name\u001b[0m \u001b[0;34m=\u001b[0m \u001b[0mself\u001b[0m\u001b[0;34m.\u001b[0m\u001b[0m_get_axis_name\u001b[0m\u001b[0;34m(\u001b[0m\u001b[0maxis\u001b[0m\u001b[0;34m)\u001b[0m\u001b[0;34m\u001b[0m\u001b[0;34m\u001b[0m\u001b[0m\n\u001b[0m\u001b[1;32m   4141\u001b[0m             \u001b[0maxes\u001b[0m \u001b[0;34m=\u001b[0m \u001b[0;34m{\u001b[0m\u001b[0maxis_name\u001b[0m\u001b[0;34m:\u001b[0m \u001b[0mlabels\u001b[0m\u001b[0;34m}\u001b[0m\u001b[0;34m\u001b[0m\u001b[0;34m\u001b[0m\u001b[0m\n\u001b[1;32m   4142\u001b[0m         \u001b[0;32melif\u001b[0m \u001b[0mindex\u001b[0m \u001b[0;32mis\u001b[0m \u001b[0;32mnot\u001b[0m \u001b[0;32mNone\u001b[0m \u001b[0;32mor\u001b[0m \u001b[0mcolumns\u001b[0m \u001b[0;32mis\u001b[0m \u001b[0;32mnot\u001b[0m \u001b[0;32mNone\u001b[0m\u001b[0;34m:\u001b[0m\u001b[0;34m\u001b[0m\u001b[0;34m\u001b[0m\u001b[0m\n",
      "\u001b[0;32m/shared-libs/python3.9/py/lib/python3.9/site-packages/pandas/core/generic.py\u001b[0m in \u001b[0;36m_get_axis_name\u001b[0;34m(cls, axis)\u001b[0m\n\u001b[1;32m    465\u001b[0m     \u001b[0;34m@\u001b[0m\u001b[0mclassmethod\u001b[0m\u001b[0;34m\u001b[0m\u001b[0;34m\u001b[0m\u001b[0m\n\u001b[1;32m    466\u001b[0m     \u001b[0;32mdef\u001b[0m \u001b[0m_get_axis_name\u001b[0m\u001b[0;34m(\u001b[0m\u001b[0mcls\u001b[0m\u001b[0;34m,\u001b[0m \u001b[0maxis\u001b[0m\u001b[0;34m:\u001b[0m \u001b[0mAxis\u001b[0m\u001b[0;34m)\u001b[0m \u001b[0;34m->\u001b[0m \u001b[0mstr\u001b[0m\u001b[0;34m:\u001b[0m\u001b[0;34m\u001b[0m\u001b[0;34m\u001b[0m\u001b[0m\n\u001b[0;32m--> 467\u001b[0;31m         \u001b[0maxis_number\u001b[0m \u001b[0;34m=\u001b[0m \u001b[0mcls\u001b[0m\u001b[0;34m.\u001b[0m\u001b[0m_get_axis_number\u001b[0m\u001b[0;34m(\u001b[0m\u001b[0maxis\u001b[0m\u001b[0;34m)\u001b[0m\u001b[0;34m\u001b[0m\u001b[0;34m\u001b[0m\u001b[0m\n\u001b[0m\u001b[1;32m    468\u001b[0m         \u001b[0;32mreturn\u001b[0m \u001b[0mcls\u001b[0m\u001b[0;34m.\u001b[0m\u001b[0m_AXIS_ORDERS\u001b[0m\u001b[0;34m[\u001b[0m\u001b[0maxis_number\u001b[0m\u001b[0;34m]\u001b[0m\u001b[0;34m\u001b[0m\u001b[0;34m\u001b[0m\u001b[0m\n\u001b[1;32m    469\u001b[0m \u001b[0;34m\u001b[0m\u001b[0m\n",
      "\u001b[0;32m/shared-libs/python3.9/py/lib/python3.9/site-packages/pandas/core/generic.py\u001b[0m in \u001b[0;36m_get_axis_number\u001b[0;34m(cls, axis)\u001b[0m\n\u001b[1;32m    460\u001b[0m             \u001b[0;32mreturn\u001b[0m \u001b[0mcls\u001b[0m\u001b[0;34m.\u001b[0m\u001b[0m_AXIS_TO_AXIS_NUMBER\u001b[0m\u001b[0;34m[\u001b[0m\u001b[0maxis\u001b[0m\u001b[0;34m]\u001b[0m\u001b[0;34m\u001b[0m\u001b[0;34m\u001b[0m\u001b[0m\n\u001b[1;32m    461\u001b[0m         \u001b[0;32mexcept\u001b[0m \u001b[0mKeyError\u001b[0m\u001b[0;34m:\u001b[0m\u001b[0;34m\u001b[0m\u001b[0;34m\u001b[0m\u001b[0m\n\u001b[0;32m--> 462\u001b[0;31m             \u001b[0;32mraise\u001b[0m \u001b[0mValueError\u001b[0m\u001b[0;34m(\u001b[0m\u001b[0;34mf\"No axis named {axis} for object type {cls.__name__}\"\u001b[0m\u001b[0;34m)\u001b[0m\u001b[0;34m\u001b[0m\u001b[0;34m\u001b[0m\u001b[0m\n\u001b[0m\u001b[1;32m    463\u001b[0m \u001b[0;34m\u001b[0m\u001b[0m\n\u001b[1;32m    464\u001b[0m     \u001b[0;34m@\u001b[0m\u001b[0mfinal\u001b[0m\u001b[0;34m\u001b[0m\u001b[0;34m\u001b[0m\u001b[0m\n",
      "\u001b[0;31mValueError\u001b[0m: No axis named 1 for object type Series"
     ]
    }
   ],
   "execution_count": 103
  },
  {
   "cell_type": "code",
   "metadata": {
    "tags": [],
    "cell_id": "00011-56589196-5e98-43ec-978d-815c1debe251",
    "deepnote_to_be_reexecuted": false,
    "source_hash": "be0aaf1",
    "execution_start": 1639009983485,
    "execution_millis": 288,
    "deepnote_cell_type": "code"
   },
   "source": "merged_df",
   "outputs": [
    {
     "output_type": "execute_result",
     "execution_count": 102,
     "data": {
      "application/vnd.deepnote.dataframe.v2+json": {
       "row_count": 16,
       "column_count": 5,
       "columns": [
        {
         "name": "B",
         "dtype": "bool",
         "stats": {
          "unique_count": 2,
          "nan_count": 0,
          "categories": [
           {
            "name": "True",
            "count": 8
           },
           {
            "name": "False",
            "count": 8
           }
          ]
         }
        },
        {
         "name": "C",
         "dtype": "bool",
         "stats": {
          "unique_count": 2,
          "nan_count": 0,
          "categories": [
           {
            "name": "True",
            "count": 8
           },
           {
            "name": "False",
            "count": 8
           }
          ]
         }
        },
        {
         "name": "D",
         "dtype": "bool",
         "stats": {
          "unique_count": 2,
          "nan_count": 0,
          "categories": [
           {
            "name": "True",
            "count": 8
           },
           {
            "name": "False",
            "count": 8
           }
          ]
         }
        },
        {
         "name": "E",
         "dtype": "bool",
         "stats": {
          "unique_count": 2,
          "nan_count": 0,
          "categories": [
           {
            "name": "True",
            "count": 8
           },
           {
            "name": "False",
            "count": 8
           }
          ]
         }
        },
        {
         "name": "p",
         "dtype": "float64",
         "stats": {
          "unique_count": 15,
          "nan_count": 0,
          "min": "0.0",
          "max": "0.4256",
          "histogram": [
           {
            "bin_start": 0,
            "bin_end": 0.04256,
            "count": 7
           },
           {
            "bin_start": 0.04256,
            "bin_end": 0.08512,
            "count": 1
           },
           {
            "bin_start": 0.08512,
            "bin_end": 0.12768000000000002,
            "count": 1
           },
           {
            "bin_start": 0.12768000000000002,
            "bin_end": 0.17024,
            "count": 1
           },
           {
            "bin_start": 0.17024,
            "bin_end": 0.2128,
            "count": 2
           },
           {
            "bin_start": 0.2128,
            "bin_end": 0.25536000000000003,
            "count": 1
           },
           {
            "bin_start": 0.25536000000000003,
            "bin_end": 0.29792,
            "count": 0
           },
           {
            "bin_start": 0.29792,
            "bin_end": 0.34048,
            "count": 0
           },
           {
            "bin_start": 0.34048,
            "bin_end": 0.38304,
            "count": 1
           },
           {
            "bin_start": 0.38304,
            "bin_end": 0.4256,
            "count": 2
           }
          ]
         }
        },
        {
         "name": "_deepnote_index_column",
         "dtype": "int64"
        }
       ],
       "rows_top": [
        {
         "B": true,
         "C": true,
         "D": true,
         "E": true,
         "p": 0.4256,
         "_deepnote_index_column": 0
        },
        {
         "B": true,
         "C": true,
         "D": true,
         "E": false,
         "p": 0.1824,
         "_deepnote_index_column": 1
        },
        {
         "B": true,
         "C": false,
         "D": true,
         "E": true,
         "p": 0.4032,
         "_deepnote_index_column": 2
        },
        {
         "B": true,
         "C": false,
         "D": true,
         "E": false,
         "p": 0.1728,
         "_deepnote_index_column": 3
        },
        {
         "B": false,
         "C": true,
         "D": true,
         "E": true,
         "p": 0.35840000000000005,
         "_deepnote_index_column": 4
        },
        {
         "B": false,
         "C": true,
         "D": true,
         "E": false,
         "p": 0.15360000000000001,
         "_deepnote_index_column": 5
        },
        {
         "B": false,
         "C": false,
         "D": true,
         "E": true,
         "p": 0,
         "_deepnote_index_column": 6
        },
        {
         "B": false,
         "C": false,
         "D": true,
         "E": false,
         "p": 0,
         "_deepnote_index_column": 7
        },
        {
         "B": true,
         "C": true,
         "D": false,
         "E": true,
         "p": 0.005600000000000001,
         "_deepnote_index_column": 8
        },
        {
         "B": true,
         "C": true,
         "D": false,
         "E": false,
         "p": 0.012400000000000001,
         "_deepnote_index_column": 9
        },
        {
         "B": true,
         "C": false,
         "D": false,
         "E": true,
         "p": 0.011200000000000002,
         "_deepnote_index_column": 10
        },
        {
         "B": true,
         "C": false,
         "D": false,
         "E": false,
         "p": 0.024800000000000003,
         "_deepnote_index_column": 11
        },
        {
         "B": false,
         "C": true,
         "D": false,
         "E": true,
         "p": 0.022400000000000003,
         "_deepnote_index_column": 12
        },
        {
         "B": false,
         "C": true,
         "D": false,
         "E": false,
         "p": 0.049600000000000005,
         "_deepnote_index_column": 13
        },
        {
         "B": false,
         "C": false,
         "D": false,
         "E": true,
         "p": 0.112,
         "_deepnote_index_column": 14
        },
        {
         "B": false,
         "C": false,
         "D": false,
         "E": false,
         "p": 0.248,
         "_deepnote_index_column": 15
        }
       ],
       "rows_bottom": null
      },
      "text/plain": "        B      C      D      E       p\n0    True   True   True   True  0.4256\n1    True   True   True  False  0.1824\n2    True  False   True   True  0.4032\n3    True  False   True  False  0.1728\n4   False   True   True   True  0.3584\n5   False   True   True  False  0.1536\n6   False  False   True   True  0.0000\n7   False  False   True  False  0.0000\n8    True   True  False   True  0.0056\n9    True   True  False  False  0.0124\n10   True  False  False   True  0.0112\n11   True  False  False  False  0.0248\n12  False   True  False   True  0.0224\n13  False   True  False  False  0.0496\n14  False  False  False   True  0.1120\n15  False  False  False  False  0.2480",
      "text/html": "<div>\n<style scoped>\n    .dataframe tbody tr th:only-of-type {\n        vertical-align: middle;\n    }\n\n    .dataframe tbody tr th {\n        vertical-align: top;\n    }\n\n    .dataframe thead th {\n        text-align: right;\n    }\n</style>\n<table border=\"1\" class=\"dataframe\">\n  <thead>\n    <tr style=\"text-align: right;\">\n      <th></th>\n      <th>B</th>\n      <th>C</th>\n      <th>D</th>\n      <th>E</th>\n      <th>p</th>\n    </tr>\n  </thead>\n  <tbody>\n    <tr>\n      <th>0</th>\n      <td>True</td>\n      <td>True</td>\n      <td>True</td>\n      <td>True</td>\n      <td>0.4256</td>\n    </tr>\n    <tr>\n      <th>1</th>\n      <td>True</td>\n      <td>True</td>\n      <td>True</td>\n      <td>False</td>\n      <td>0.1824</td>\n    </tr>\n    <tr>\n      <th>2</th>\n      <td>True</td>\n      <td>False</td>\n      <td>True</td>\n      <td>True</td>\n      <td>0.4032</td>\n    </tr>\n    <tr>\n      <th>3</th>\n      <td>True</td>\n      <td>False</td>\n      <td>True</td>\n      <td>False</td>\n      <td>0.1728</td>\n    </tr>\n    <tr>\n      <th>4</th>\n      <td>False</td>\n      <td>True</td>\n      <td>True</td>\n      <td>True</td>\n      <td>0.3584</td>\n    </tr>\n    <tr>\n      <th>5</th>\n      <td>False</td>\n      <td>True</td>\n      <td>True</td>\n      <td>False</td>\n      <td>0.1536</td>\n    </tr>\n    <tr>\n      <th>6</th>\n      <td>False</td>\n      <td>False</td>\n      <td>True</td>\n      <td>True</td>\n      <td>0.0000</td>\n    </tr>\n    <tr>\n      <th>7</th>\n      <td>False</td>\n      <td>False</td>\n      <td>True</td>\n      <td>False</td>\n      <td>0.0000</td>\n    </tr>\n    <tr>\n      <th>8</th>\n      <td>True</td>\n      <td>True</td>\n      <td>False</td>\n      <td>True</td>\n      <td>0.0056</td>\n    </tr>\n    <tr>\n      <th>9</th>\n      <td>True</td>\n      <td>True</td>\n      <td>False</td>\n      <td>False</td>\n      <td>0.0124</td>\n    </tr>\n    <tr>\n      <th>10</th>\n      <td>True</td>\n      <td>False</td>\n      <td>False</td>\n      <td>True</td>\n      <td>0.0112</td>\n    </tr>\n    <tr>\n      <th>11</th>\n      <td>True</td>\n      <td>False</td>\n      <td>False</td>\n      <td>False</td>\n      <td>0.0248</td>\n    </tr>\n    <tr>\n      <th>12</th>\n      <td>False</td>\n      <td>True</td>\n      <td>False</td>\n      <td>True</td>\n      <td>0.0224</td>\n    </tr>\n    <tr>\n      <th>13</th>\n      <td>False</td>\n      <td>True</td>\n      <td>False</td>\n      <td>False</td>\n      <td>0.0496</td>\n    </tr>\n    <tr>\n      <th>14</th>\n      <td>False</td>\n      <td>False</td>\n      <td>False</td>\n      <td>True</td>\n      <td>0.1120</td>\n    </tr>\n    <tr>\n      <th>15</th>\n      <td>False</td>\n      <td>False</td>\n      <td>False</td>\n      <td>False</td>\n      <td>0.2480</td>\n    </tr>\n  </tbody>\n</table>\n</div>"
     },
     "metadata": {}
    }
   ],
   "execution_count": 102
  },
  {
   "cell_type": "code",
   "metadata": {
    "tags": [],
    "cell_id": "00008-81d4b5cb-fc2e-4098-bfed-2e486560c002",
    "deepnote_to_be_reexecuted": false,
    "source_hash": "4eee5678",
    "execution_start": 1639004967043,
    "execution_millis": 6,
    "deepnote_cell_type": "code"
   },
   "source": "var_false_df",
   "outputs": [
    {
     "output_type": "execute_result",
     "execution_count": 38,
     "data": {
      "application/vnd.deepnote.dataframe.v2+json": {
       "row_count": 4,
       "column_count": 3,
       "columns": [
        {
         "name": "A",
         "dtype": "bool",
         "stats": {
          "unique_count": 2,
          "nan_count": 0,
          "categories": [
           {
            "name": "True",
            "count": 2
           },
           {
            "name": "False",
            "count": 2
           }
          ]
         }
        },
        {
         "name": "C",
         "dtype": "bool",
         "stats": {
          "unique_count": 2,
          "nan_count": 0,
          "categories": [
           {
            "name": "True",
            "count": 2
           },
           {
            "name": "False",
            "count": 2
           }
          ]
         }
        },
        {
         "name": "val",
         "dtype": "float64",
         "stats": {
          "unique_count": 4,
          "nan_count": 0,
          "min": "0.32",
          "max": "0.54",
          "histogram": [
           {
            "bin_start": 0.32,
            "bin_end": 0.342,
            "count": 1
           },
           {
            "bin_start": 0.342,
            "bin_end": 0.364,
            "count": 1
           },
           {
            "bin_start": 0.364,
            "bin_end": 0.386,
            "count": 0
           },
           {
            "bin_start": 0.386,
            "bin_end": 0.40800000000000003,
            "count": 0
           },
           {
            "bin_start": 0.40800000000000003,
            "bin_end": 0.43000000000000005,
            "count": 0
           },
           {
            "bin_start": 0.43000000000000005,
            "bin_end": 0.452,
            "count": 0
           },
           {
            "bin_start": 0.452,
            "bin_end": 0.47400000000000003,
            "count": 0
           },
           {
            "bin_start": 0.47400000000000003,
            "bin_end": 0.496,
            "count": 1
           },
           {
            "bin_start": 0.496,
            "bin_end": 0.518,
            "count": 0
           },
           {
            "bin_start": 0.518,
            "bin_end": 0.54,
            "count": 1
           }
          ]
         }
        },
        {
         "name": "_deepnote_index_column",
         "dtype": "int64"
        }
       ],
       "rows_top": [
        {
         "A": true,
         "C": true,
         "val": 0.54,
         "_deepnote_index_column": 2
        },
        {
         "A": true,
         "C": false,
         "val": 0.36,
         "_deepnote_index_column": 3
        },
        {
         "A": false,
         "C": true,
         "val": 0.48,
         "_deepnote_index_column": 6
        },
        {
         "A": false,
         "C": false,
         "val": 0.32,
         "_deepnote_index_column": 7
        }
       ],
       "rows_bottom": null
      },
      "text/plain": "       A      C   val\n2   True   True  0.54\n3   True  False  0.36\n6  False   True  0.48\n7  False  False  0.32",
      "text/html": "<div>\n<style scoped>\n    .dataframe tbody tr th:only-of-type {\n        vertical-align: middle;\n    }\n\n    .dataframe tbody tr th {\n        vertical-align: top;\n    }\n\n    .dataframe thead th {\n        text-align: right;\n    }\n</style>\n<table border=\"1\" class=\"dataframe\">\n  <thead>\n    <tr style=\"text-align: right;\">\n      <th></th>\n      <th>A</th>\n      <th>C</th>\n      <th>val</th>\n    </tr>\n  </thead>\n  <tbody>\n    <tr>\n      <th>2</th>\n      <td>True</td>\n      <td>True</td>\n      <td>0.54</td>\n    </tr>\n    <tr>\n      <th>3</th>\n      <td>True</td>\n      <td>False</td>\n      <td>0.36</td>\n    </tr>\n    <tr>\n      <th>6</th>\n      <td>False</td>\n      <td>True</td>\n      <td>0.48</td>\n    </tr>\n    <tr>\n      <th>7</th>\n      <td>False</td>\n      <td>False</td>\n      <td>0.32</td>\n    </tr>\n  </tbody>\n</table>\n</div>"
     },
     "metadata": {}
    }
   ],
   "execution_count": 38
  },
  {
   "cell_type": "code",
   "metadata": {
    "tags": [],
    "cell_id": "00009-97e2abae-5e0d-49c7-8c71-545890b1bd9b",
    "deepnote_to_be_reexecuted": false,
    "source_hash": "2eaa8329",
    "execution_start": 1639005532703,
    "execution_millis": 2,
    "deepnote_output_heights": [
     21
    ],
    "deepnote_cell_type": "code"
   },
   "source": "pd.merge(var_true_df, var_false_df, on=['A', 'C'], how='inner')",
   "outputs": [
    {
     "output_type": "execute_result",
     "execution_count": 45,
     "data": {
      "application/vnd.deepnote.dataframe.v2+json": {
       "row_count": 4,
       "column_count": 4,
       "columns": [
        {
         "name": "A",
         "dtype": "bool",
         "stats": {
          "unique_count": 2,
          "nan_count": 0,
          "categories": [
           {
            "name": "True",
            "count": 2
           },
           {
            "name": "False",
            "count": 2
           }
          ]
         }
        },
        {
         "name": "C",
         "dtype": "bool",
         "stats": {
          "unique_count": 2,
          "nan_count": 0,
          "categories": [
           {
            "name": "True",
            "count": 2
           },
           {
            "name": "False",
            "count": 2
           }
          ]
         }
        },
        {
         "name": "val_x",
         "dtype": "float64",
         "stats": {
          "unique_count": 4,
          "nan_count": 0,
          "min": "0.03",
          "max": "0.14",
          "histogram": [
           {
            "bin_start": 0.03,
            "bin_end": 0.041,
            "count": 1
           },
           {
            "bin_start": 0.041,
            "bin_end": 0.052000000000000005,
            "count": 0
           },
           {
            "bin_start": 0.052000000000000005,
            "bin_end": 0.063,
            "count": 1
           },
           {
            "bin_start": 0.063,
            "bin_end": 0.07400000000000001,
            "count": 1
           },
           {
            "bin_start": 0.07400000000000001,
            "bin_end": 0.085,
            "count": 0
           },
           {
            "bin_start": 0.085,
            "bin_end": 0.096,
            "count": 0
           },
           {
            "bin_start": 0.096,
            "bin_end": 0.10700000000000001,
            "count": 0
           },
           {
            "bin_start": 0.10700000000000001,
            "bin_end": 0.11800000000000001,
            "count": 0
           },
           {
            "bin_start": 0.11800000000000001,
            "bin_end": 0.129,
            "count": 0
           },
           {
            "bin_start": 0.129,
            "bin_end": 0.14,
            "count": 1
           }
          ]
         }
        },
        {
         "name": "val_y",
         "dtype": "float64",
         "stats": {
          "unique_count": 4,
          "nan_count": 0,
          "min": "0.32",
          "max": "0.54",
          "histogram": [
           {
            "bin_start": 0.32,
            "bin_end": 0.342,
            "count": 1
           },
           {
            "bin_start": 0.342,
            "bin_end": 0.364,
            "count": 1
           },
           {
            "bin_start": 0.364,
            "bin_end": 0.386,
            "count": 0
           },
           {
            "bin_start": 0.386,
            "bin_end": 0.40800000000000003,
            "count": 0
           },
           {
            "bin_start": 0.40800000000000003,
            "bin_end": 0.43000000000000005,
            "count": 0
           },
           {
            "bin_start": 0.43000000000000005,
            "bin_end": 0.452,
            "count": 0
           },
           {
            "bin_start": 0.452,
            "bin_end": 0.47400000000000003,
            "count": 0
           },
           {
            "bin_start": 0.47400000000000003,
            "bin_end": 0.496,
            "count": 1
           },
           {
            "bin_start": 0.496,
            "bin_end": 0.518,
            "count": 0
           },
           {
            "bin_start": 0.518,
            "bin_end": 0.54,
            "count": 1
           }
          ]
         }
        },
        {
         "name": "_deepnote_index_column",
         "dtype": "int64"
        }
       ],
       "rows_top": [
        {
         "A": true,
         "C": true,
         "val_x": 0.03,
         "val_y": 0.54,
         "_deepnote_index_column": 0
        },
        {
         "A": true,
         "C": false,
         "val_x": 0.07,
         "val_y": 0.36,
         "_deepnote_index_column": 1
        },
        {
         "A": false,
         "C": true,
         "val_x": 0.06,
         "val_y": 0.48,
         "_deepnote_index_column": 2
        },
        {
         "A": false,
         "C": false,
         "val_x": 0.14,
         "val_y": 0.32,
         "_deepnote_index_column": 3
        }
       ],
       "rows_bottom": null
      },
      "text/plain": "       A      C  val_x  val_y\n0   True   True   0.03   0.54\n1   True  False   0.07   0.36\n2  False   True   0.06   0.48\n3  False  False   0.14   0.32",
      "text/html": "<div>\n<style scoped>\n    .dataframe tbody tr th:only-of-type {\n        vertical-align: middle;\n    }\n\n    .dataframe tbody tr th {\n        vertical-align: top;\n    }\n\n    .dataframe thead th {\n        text-align: right;\n    }\n</style>\n<table border=\"1\" class=\"dataframe\">\n  <thead>\n    <tr style=\"text-align: right;\">\n      <th></th>\n      <th>A</th>\n      <th>C</th>\n      <th>val_x</th>\n      <th>val_y</th>\n    </tr>\n  </thead>\n  <tbody>\n    <tr>\n      <th>0</th>\n      <td>True</td>\n      <td>True</td>\n      <td>0.03</td>\n      <td>0.54</td>\n    </tr>\n    <tr>\n      <th>1</th>\n      <td>True</td>\n      <td>False</td>\n      <td>0.07</td>\n      <td>0.36</td>\n    </tr>\n    <tr>\n      <th>2</th>\n      <td>False</td>\n      <td>True</td>\n      <td>0.06</td>\n      <td>0.48</td>\n    </tr>\n    <tr>\n      <th>3</th>\n      <td>False</td>\n      <td>False</td>\n      <td>0.14</td>\n      <td>0.32</td>\n    </tr>\n  </tbody>\n</table>\n</div>"
     },
     "metadata": {}
    }
   ],
   "execution_count": 45
  },
  {
   "cell_type": "code",
   "metadata": {
    "tags": [],
    "cell_id": "00011-831dbbdf-b92c-45ea-b97f-052c6e59e55f",
    "deepnote_to_be_reexecuted": false,
    "source_hash": "5df0f5ce",
    "execution_start": 1639005602878,
    "execution_millis": 27,
    "deepnote_output_heights": [
     21
    ],
    "deepnote_cell_type": "code"
   },
   "source": "pd.concat([var_true_df, var_false_df]).groupby([\"A\", \"C\"], as_index=False)[\"val\"].sum()",
   "outputs": [
    {
     "output_type": "execute_result",
     "execution_count": 49,
     "data": {
      "application/vnd.deepnote.dataframe.v2+json": {
       "row_count": 4,
       "column_count": 3,
       "columns": [
        {
         "name": "A",
         "dtype": "bool",
         "stats": {
          "unique_count": 2,
          "nan_count": 0,
          "categories": [
           {
            "name": "False",
            "count": 2
           },
           {
            "name": "True",
            "count": 2
           }
          ]
         }
        },
        {
         "name": "C",
         "dtype": "bool",
         "stats": {
          "unique_count": 2,
          "nan_count": 0,
          "categories": [
           {
            "name": "False",
            "count": 2
           },
           {
            "name": "True",
            "count": 2
           }
          ]
         }
        },
        {
         "name": "val",
         "dtype": "float64",
         "stats": {
          "unique_count": 4,
          "nan_count": 0,
          "min": "0.43",
          "max": "0.5700000000000001",
          "histogram": [
           {
            "bin_start": 0.43,
            "bin_end": 0.444,
            "count": 1
           },
           {
            "bin_start": 0.444,
            "bin_end": 0.458,
            "count": 0
           },
           {
            "bin_start": 0.458,
            "bin_end": 0.47200000000000003,
            "count": 1
           },
           {
            "bin_start": 0.47200000000000003,
            "bin_end": 0.48600000000000004,
            "count": 0
           },
           {
            "bin_start": 0.48600000000000004,
            "bin_end": 0.5,
            "count": 0
           },
           {
            "bin_start": 0.5,
            "bin_end": 0.514,
            "count": 0
           },
           {
            "bin_start": 0.514,
            "bin_end": 0.528,
            "count": 0
           },
           {
            "bin_start": 0.528,
            "bin_end": 0.542,
            "count": 1
           },
           {
            "bin_start": 0.542,
            "bin_end": 0.556,
            "count": 0
           },
           {
            "bin_start": 0.556,
            "bin_end": 0.5700000000000001,
            "count": 1
           }
          ]
         }
        },
        {
         "name": "_deepnote_index_column",
         "dtype": "int64"
        }
       ],
       "rows_top": [
        {
         "A": false,
         "C": false,
         "val": 0.46,
         "_deepnote_index_column": 0
        },
        {
         "A": false,
         "C": true,
         "val": 0.54,
         "_deepnote_index_column": 1
        },
        {
         "A": true,
         "C": false,
         "val": 0.43,
         "_deepnote_index_column": 2
        },
        {
         "A": true,
         "C": true,
         "val": 0.5700000000000001,
         "_deepnote_index_column": 3
        }
       ],
       "rows_bottom": null
      },
      "text/plain": "       A      C   val\n0  False  False  0.46\n1  False   True  0.54\n2   True  False  0.43\n3   True   True  0.57",
      "text/html": "<div>\n<style scoped>\n    .dataframe tbody tr th:only-of-type {\n        vertical-align: middle;\n    }\n\n    .dataframe tbody tr th {\n        vertical-align: top;\n    }\n\n    .dataframe thead th {\n        text-align: right;\n    }\n</style>\n<table border=\"1\" class=\"dataframe\">\n  <thead>\n    <tr style=\"text-align: right;\">\n      <th></th>\n      <th>A</th>\n      <th>C</th>\n      <th>val</th>\n    </tr>\n  </thead>\n  <tbody>\n    <tr>\n      <th>0</th>\n      <td>False</td>\n      <td>False</td>\n      <td>0.46</td>\n    </tr>\n    <tr>\n      <th>1</th>\n      <td>False</td>\n      <td>True</td>\n      <td>0.54</td>\n    </tr>\n    <tr>\n      <th>2</th>\n      <td>True</td>\n      <td>False</td>\n      <td>0.43</td>\n    </tr>\n    <tr>\n      <th>3</th>\n      <td>True</td>\n      <td>True</td>\n      <td>0.57</td>\n    </tr>\n  </tbody>\n</table>\n</div>"
     },
     "metadata": {}
    }
   ],
   "execution_count": 49
  },
  {
   "cell_type": "code",
   "metadata": {
    "tags": [],
    "cell_id": "00012-66c82c8e-2761-432a-b557-3bce10f113a1",
    "deepnote_cell_type": "code"
   },
   "source": "",
   "execution_count": null,
   "outputs": []
  },
  {
   "cell_type": "markdown",
   "source": "<a style='text-decoration:none;line-height:16px;display:flex;color:#5B5B62;padding:10px;justify-content:end;' href='https://deepnote.com?utm_source=created-in-deepnote-cell&projectId=97e6598c-0899-4008-b807-f77cd0756453' target=\"_blank\">\n<img alt='Created in deepnote.com' style='display:inline;max-height:16px;margin:0px;margin-right:7.5px;' src='data:image/svg+xml;base64,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' > </img>\nCreated in <span style='font-weight:600;margin-left:4px;'>Deepnote</span></a>",
   "metadata": {
    "tags": [],
    "created_in_deepnote_cell": true,
    "deepnote_cell_type": "markdown"
   }
  }
 ],
 "nbformat": 4,
 "nbformat_minor": 5,
 "metadata": {
  "kernelspec": {
   "display_name": "Python 3 (ipykernel)",
   "language": "python",
   "name": "python3"
  },
  "language_info": {
   "codemirror_mode": {
    "name": "ipython",
    "version": 3
   },
   "file_extension": ".py",
   "mimetype": "text/x-python",
   "name": "python",
   "nbconvert_exporter": "python",
   "pygments_lexer": "ipython3",
   "version": "3.9.7"
  },
  "deepnote_notebook_id": "9c29ec9e-f873-4711-85d5-264a369c8b65",
  "deepnote": {},
  "deepnote_execution_queue": []
 }
}