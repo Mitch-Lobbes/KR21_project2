{
 "cells": [
  {
   "cell_type": "code",
   "execution_count": 1,
   "metadata": {},
   "outputs": [],
   "source": [
    "from BNReasoner import BNReasoner\n",
    "from BayesNet import BayesNet\n",
    "from typing import Union\n",
    "import pandas as pd"
   ]
  },
  {
   "cell_type": "code",
   "execution_count": 8,
   "metadata": {},
   "outputs": [],
   "source": [
    "f = \"testing/lecture_example.BIFXML\""
   ]
  },
  {
   "cell_type": "code",
   "execution_count": 11,
   "metadata": {},
   "outputs": [],
   "source": [
    "df = pd.DataFrame({'t1': [1, 2], 't2': [3,4], 't3': [5,6]})\n",
    "test = BayesNet()\n",
    "test.create_bn(variables = [\"R\", \"E\", \"A\", \"C\", \"B\"], edges =  [(\"E\", \"R\"), (\"E\", \"A\"), (\"B\", \"A\"), (\"A\", \"C\")], cpts = {'R': [1, 2], 'E': [3,4], 'A': [5,6], \"C\": [3,4], \"B\": [8,9]})\n",
    "#test2 = BayesNet()\n",
    "#test2.load_from_bifxml(f)\n"
   ]
  },
  {
   "cell_type": "code",
   "execution_count": 5,
   "metadata": {},
   "outputs": [
    {
     "name": "stdout",
     "output_type": "stream",
     "text": [
      "DiGraph with 3 nodes and 2 edges\n"
     ]
    }
   ],
   "source": [
    "print(test.structure)\n",
    "#print(test2.structure)"
   ]
  },
  {
   "cell_type": "code",
   "execution_count": 9,
   "metadata": {},
   "outputs": [
    {
     "data": {
      "text/plain": [
       "NodeView(('t1', 't2', 't3'))"
      ]
     },
     "execution_count": 9,
     "metadata": {},
     "output_type": "execute_result"
    }
   ],
   "source": [
    "test.structure.nodes"
   ]
  },
  {
   "cell_type": "code",
   "execution_count": 68,
   "metadata": {},
   "outputs": [
    {
     "data": {
      "text/plain": [
       "{'Winter?':    Winter?    p\n",
       " 0    False  0.4\n",
       " 1     True  0.6,\n",
       " 'Sprinkler?':    Winter?  Sprinkler?     p\n",
       " 0    False       False  0.25\n",
       " 1    False        True  0.75\n",
       " 2     True       False  0.80\n",
       " 3     True        True  0.20,\n",
       " 'Rain?':    Winter?  Rain?    p\n",
       " 0    False  False  0.9\n",
       " 1    False   True  0.1\n",
       " 2     True  False  0.2\n",
       " 3     True   True  0.8,\n",
       " 'Wet Grass?':    Sprinkler?  Rain?  Wet Grass?     p\n",
       " 0       False  False       False  1.00\n",
       " 1       False  False        True  0.00\n",
       " 2       False   True       False  0.20\n",
       " 3       False   True        True  0.80\n",
       " 4        True  False       False  0.10\n",
       " 5        True  False        True  0.90\n",
       " 6        True   True       False  0.05\n",
       " 7        True   True        True  0.95,\n",
       " 'Slippery Road?':    Rain?  Slippery Road?    p\n",
       " 0  False           False  1.0\n",
       " 1  False            True  0.0\n",
       " 2   True           False  0.3\n",
       " 3   True            True  0.7}"
      ]
     },
     "execution_count": 68,
     "metadata": {},
     "output_type": "execute_result"
    }
   ],
   "source": [
    "test2.get_all_cpts()"
   ]
  },
  {
   "cell_type": "code",
   "execution_count": 61,
   "metadata": {},
   "outputs": [
    {
     "name": "stdout",
     "output_type": "stream",
     "text": [
      "Graph with 5 nodes and 6 edges\n"
     ]
    }
   ],
   "source": [
    "test.get_children(\"t2\")\n",
    "print(test2.get_interaction_graph())"
   ]
  },
  {
   "cell_type": "code",
   "execution_count": 7,
   "metadata": {},
   "outputs": [
    {
     "data": {
      "image/png": "[encoded data removed]",
      "text/plain": [
       "<Figure size 432x288 with 1 Axes>"
      ]
     },
     "metadata": {},
     "output_type": "display_data"
    }
   ],
   "source": [
    "test.draw_structure()"
   ]
  },
  {
   "cell_type": "code",
   "execution_count": null,
   "metadata": {},
   "outputs": [],
   "source": []
  },
  {
   "cell_type": "code",
   "execution_count": 21,
   "metadata": {},
   "outputs": [],
   "source": [
    "example = BNReasoner(Union[\"test1\", f])"
   ]
  },
  {
   "cell_type": "code",
   "execution_count": 20,
   "metadata": {},
   "outputs": [
    {
     "ename": "AttributeError",
     "evalue": "'BNReasoner' object has no attribute 'get_all_variables'",
     "output_type": "error",
     "traceback": [
      "\u001b[0;31m---------------------------------------------------------------------------\u001b[0m",
      "\u001b[0;31mAttributeError\u001b[0m                            Traceback (most recent call last)",
      "\u001b[0;32m/var/folders/fh/ctl2vvzn1kxb4hqrn8xwwd8m0000gp/T/ipykernel_24061/2252020363.py\u001b[0m in \u001b[0;36m<module>\u001b[0;34m\u001b[0m\n\u001b[0;32m----> 1\u001b[0;31m \u001b[0mexample\u001b[0m\u001b[0;34m.\u001b[0m\u001b[0mget_all_variables\u001b[0m\u001b[0;34m\u001b[0m\u001b[0;34m\u001b[0m\u001b[0m\n\u001b[0m",
      "\u001b[0;31mAttributeError\u001b[0m: 'BNReasoner' object has no attribute 'get_all_variables'"
     ]
    }
   ],
   "source": [
    "example.get_all_variables"
   ]
  },
  {
   "cell_type": "code",
   "execution_count": 22,
   "metadata": {},
   "outputs": [
    {
     "name": "stdout",
     "output_type": "stream",
     "text": [
      "<BNReasoner.BNReasoner object at 0x7fb5de528040>\n"
     ]
    }
   ],
   "source": []
  },
  {
   "cell_type": "code",
   "execution_count": null,
   "metadata": {},
   "outputs": [],
   "source": []
  }
 ],
 "metadata": {
  "kernelspec": {
   "display_name": "Python 3 (ipykernel)",
   "language": "python",
   "name": "python3"
  },
  "language_info": {
   "codemirror_mode": {
    "name": "ipython",
    "version": 3
   },
   "file_extension": ".py",
   "mimetype": "text/x-python",
   "name": "python",
   "nbconvert_exporter": "python",
   "pygments_lexer": "ipython3",
   "version": "3.9.7"
  }
 },
 "nbformat": 4,
 "nbformat_minor": 4
}
