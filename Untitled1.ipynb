{
 "cells": [
  {
   "cell_type": "code",
   "execution_count": 1,
   "id": "e49243f3-2bde-492a-b6da-228421b9add7",
   "metadata": {},
   "outputs": [],
   "source": [
    "from BNReasoner import BNReasoner\n",
    "from BayesNet import BayesNet"
   ]
  },
  {
   "cell_type": "code",
   "execution_count": 2,
   "id": "1f9d2567-e295-4a25-8a50-f12492b838c3",
   "metadata": {},
   "outputs": [],
   "source": [
    "NETWORK = \"testing/lecture_example2.BIFXML\"\n",
    "reasoner = BNReasoner(NETWORK)\n",
    "cpts = reasoner.bn.get_all_cpts()"
   ]
  },
  {
   "cell_type": "code",
   "execution_count": 5,
   "id": "6a652427-a28c-4f8e-8ae5-bf8796cdcb46",
   "metadata": {},
   "outputs": [
    {
     "data": {
      "text/plain": [
       "{'I':        I    p\n",
       " 0  False  0.5\n",
       " 1   True  0.5,\n",
       " 'J':        J    p\n",
       " 0  False  0.5\n",
       " 1   True  0.5,\n",
       " 'Y':        J      Y     p\n",
       " 0  False  False  0.01\n",
       " 1  False   True  0.99\n",
       " 2   True  False  0.99\n",
       " 3   True   True  0.01,\n",
       " 'X':        J      I      X     p\n",
       " 0  False  False  False  0.95\n",
       " 1  False  False   True  0.05\n",
       " 2  False   True  False  0.95\n",
       " 3  False   True   True  0.05\n",
       " 4   True  False  False  0.95\n",
       " 5   True  False   True  0.05\n",
       " 6   True   True  False  0.05\n",
       " 7   True   True   True  0.95,\n",
       " 'O':        Y      X      O     p\n",
       " 0  False  False  False  0.98\n",
       " 1  False  False   True  0.02\n",
       " 2  False   True  False  0.02\n",
       " 3  False   True   True  0.98\n",
       " 4   True  False  False  0.02\n",
       " 5   True  False   True  0.98\n",
       " 6   True   True  False  0.02\n",
       " 7   True   True   True  0.98}"
      ]
     },
     "execution_count": 5,
     "metadata": {},
     "output_type": "execute_result"
    }
   ],
   "source": [
    "cpts"
   ]
  },
  {
   "cell_type": "code",
   "execution_count": null,
   "id": "9365aa25-bf05-46a1-ace8-be6400c927e6",
   "metadata": {},
   "outputs": [],
   "source": []
  }
 ],
 "metadata": {
  "kernelspec": {
   "display_name": "Python 3 (ipykernel)",
   "language": "python",
   "name": "python3"
  },
  "language_info": {
   "codemirror_mode": {
    "name": "ipython",
    "version": 3
   },
   "file_extension": ".py",
   "mimetype": "text/x-python",
   "name": "python",
   "nbconvert_exporter": "python",
   "pygments_lexer": "ipython3",
   "version": "3.9.7"
  }
 },
 "nbformat": 4,
 "nbformat_minor": 5
}
